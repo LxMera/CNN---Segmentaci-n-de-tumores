{
 "cells": [
  {
   "cell_type": "markdown",
   "metadata": {},
   "source": [
    "# Extracción de imagenes y mascaras de archivos .mat"
   ]
  },
  {
   "cell_type": "markdown",
   "metadata": {},
   "source": [
    "La información del dataset usado se encontraba en archivos .mat https://figshare.com/articles/brain_tumor_dataset/1512427/1, este archivo contenia un id de paciente, la imágen de resonancia magnetica, una etiqueta de tipo de afección que sufria el paciente, un vector de coordenadas de los puntos delimitados por los radiologos, una imagen de la mascara del tumor detectado. En nuestro caso es de interes las información de la etiqueta meningiomas (1), la imágen de resonancia magnetica y su correspondiente mascara. \n",
    "\n",
    "![Paciente](./Figuras/matOrigen.jpeg)"
   ]
  },
  {
   "cell_type": "code",
   "execution_count": 9,
   "metadata": {},
   "outputs": [],
   "source": [
    "import numpy as np\n",
    "import scipy\n",
    "import scipy.io as sio\n",
    "import matplotlib.pyplot as plt\n",
    "import glob\n",
    "import h5py\n",
    "import os\n",
    "import shutil\n",
    "from scipy import misc\n",
    "import random\n",
    "from skimage import io\n",
    "from PIL import Image\n",
    "import matplotlib.pyplot as plt"
   ]
  },
  {
   "cell_type": "markdown",
   "metadata": {},
   "source": [
    "## Crear directorios para las imagenes"
   ]
  },
  {
   "cell_type": "markdown",
   "metadata": {},
   "source": [
    "Comprobar la ruta de trabajo inicial"
   ]
  },
  {
   "cell_type": "code",
   "execution_count": 2,
   "metadata": {},
   "outputs": [
    {
     "name": "stdout",
     "output_type": "stream",
     "text": [
      "/home/user\n"
     ]
    }
   ],
   "source": [
    "dact=os.getcwd()\n",
    "print(dact)\n",
    "os.makedirs(dact+'/Imagenes')"
   ]
  },
  {
   "cell_type": "markdown",
   "metadata": {},
   "source": [
    "Crear y comprobar cada carpeta"
   ]
  },
  {
   "cell_type": "code",
   "execution_count": 3,
   "metadata": {},
   "outputs": [
    {
     "name": "stdout",
     "output_type": "stream",
     "text": [
      "True\n",
      "True\n",
      "True\n"
     ]
    }
   ],
   "source": [
    "os.makedirs('Imagenes/l1')\n",
    "print(os.path.isdir('Imagenes/l1'))\n",
    "os.makedirs('Imagenes/l2')\n",
    "print(os.path.isdir('Imagenes/l2'))\n",
    "os.makedirs('Imagenes/l3')\n",
    "print(os.path.isdir('Imagenes/l3'))"
   ]
  },
  {
   "cell_type": "markdown",
   "metadata": {},
   "source": [
    "Eliminar carpetas de un directorio"
   ]
  },
  {
   "cell_type": "code",
   "execution_count": 4,
   "metadata": {},
   "outputs": [],
   "source": [
    "# os.rmdir(\"Imagenes/l1\")\n",
    "# os.rmdir(\"Imagenes/l2\")\n",
    "# os.rmdir(\"Imagenes/l3\")"
   ]
  },
  {
   "cell_type": "markdown",
   "metadata": {},
   "source": [
    "comparar imagenes para verificar que mantenga la misma cantidad de informacion. "
   ]
  },
  {
   "cell_type": "markdown",
   "metadata": {},
   "source": [
    "## Nota: \n",
    "El parametro I se usa para determinar el nombre de la carpeta que contiene todos los archivos .mat, si se desea procesar todas las imagenes en una sola tanda, es posible que al hacerlo desde una máquina virtual aparezca un error en el kernel de su máquina virtual y no termine el proceso de extracción de la información."
   ]
  },
  {
   "cell_type": "code",
   "execution_count": null,
   "metadata": {},
   "outputs": [],
   "source": [
    "#Images=glob.glob('Images/*.mat')\n",
    "I=\"I1-3064/\"\n",
    "Images=glob.glob(\"Images/\"+I+\"*.mat\")\n",
    "print \"images\",len(Images)\n",
    "archive=Images[1]\n",
    "with h5py.File(archive, 'r') as f:\n",
    "    data=f['cjdata']\n",
    "    \n",
    "    lb=int(data['label'][0][0])\n",
    "    \n",
    "    im=np.array(data['image'], np.dtype('int16'))\n",
    "    print(im.min())\n",
    "    print(im.max())\n",
    "    max=im.max()\n",
    "    img=scipy.misc.toimage(im, cmin=0.0, cmax=max, mode='L')\n",
    "    img.save(\"im.png\")\n",
    "    print(\"tipo\",type(img))\n",
    "   \n",
    "    mas=np.array(data['tumorMask'], np.dtype('float64'))\n",
    "    min=mas.min()\n",
    "    max=mas.max()\n",
    "    mas=scipy.misc.toimage(mas, cmin=0.0, cmax=1)\n",
    "    io.imsave(\"mas.png\",mas)\n",
    "    \n",
    "    print type(im)"
   ]
  },
  {
   "cell_type": "markdown",
   "metadata": {},
   "source": [
    "## Extrar imagenes, mascaras y nombre de cada archivo .mat\n",
    "\n",
    "Quedan guardados en un tres listas ima[],mas[],lab[]"
   ]
  },
  {
   "cell_type": "code",
   "execution_count": null,
   "metadata": {},
   "outputs": [],
   "source": [
    "#Images=glob.glob('Images/*.mat')\n",
    "Images=glob.glob(\"Images/\"+I+\"*.mat\")\n",
    "\n",
    "ima=[]\n",
    "mas=[]\n",
    "lab=[]\n",
    "nombre=[]\n",
    "#print \"Tamaño\",len(Images)\n",
    "i=0  \n",
    "con=3064#control de iteraciones para no procesar todas las imagenes\n",
    "l1=0 #control de etiquetas 1,2,3\n",
    "l2=0\n",
    "l3=0\n",
    "\n",
    "#Extraer imagen, mascara y etiqueta del .mat\n",
    "for archive in Images:\n",
    "    with h5py.File(archive, 'r') as f:\n",
    "        data=f['cjdata']\n",
    "        \n",
    "        inicio=7+10\n",
    "        mat=4\n",
    "        fin=len(archive)-inicio-mat\n",
    "        \n",
    "        nombre += [archive[inicio:inicio+fin]]\n",
    "        ima    += [np.array(data['image'], np.dtype('int16'))]    \n",
    "        mas    += [np.array(data['tumorMask'], np.dtype('float64'))]\n",
    "        lab    += [int(data['label'][0][0])]\n",
    "        i=i+1\n",
    "        if i==con:\n",
    "            break"
   ]
  },
  {
   "cell_type": "markdown",
   "metadata": {},
   "source": [
    "## Separar la informacion por etiqueta"
   ]
  },
  {
   "cell_type": "code",
   "execution_count": null,
   "metadata": {},
   "outputs": [],
   "source": [
    "ima1=[]\n",
    "mas1=[]\n",
    "lab1=[]\n",
    "nom1=[]\n",
    "\n",
    "ima2=[]\n",
    "mas2=[]\n",
    "lab2=[]\n",
    "nom2=[]\n",
    "    \n",
    "ima3=[]\n",
    "mas3=[]\n",
    "lab3=[]\n",
    "nom3=[]\n",
    "            \n",
    "for i in range(len(ima)):\n",
    "    \n",
    "    #Separar informacion por etiquetas\n",
    "    if lab[i]==1:\n",
    "        ima1+=[ima[i]]\n",
    "        mas1+=[mas[i]]\n",
    "        lab1+=[lab[i]]\n",
    "        nom1+=[nombre[i]]\n",
    "    if lab[i]==2:\n",
    "        ima2+=[ima[i]]\n",
    "        mas2+=[mas[i]]\n",
    "        lab2+=[lab[i]]\n",
    "        nom2+=[nombre[i]]\n",
    "    if lab[i]==3:\n",
    "        ima3+=[ima[i]]\n",
    "        mas3+=[mas[i]]\n",
    "        lab3+=[lab[i]]\n",
    "        nom3+=[nombre[i]]"
   ]
  },
  {
   "cell_type": "markdown",
   "metadata": {},
   "source": [
    "## Separar los datos en train y test\n",
    "Al final quedan diez y ocho listas correspondientes a train y test para imagen, mascara y label, la seleccion se hace de manera aleatoria para evitar sesgos en la información. "
   ]
  },
  {
   "cell_type": "code",
   "execution_count": null,
   "metadata": {},
   "outputs": [],
   "source": [
    "test_im1=[]\n",
    "test_mas1=[]\n",
    "test_lab1=[]\n",
    "test_nom1=[]\n",
    "\n",
    "n=len(ima1)\n",
    "porcentaje=n-int(round(n*0.7))\n",
    "\n",
    "for _ in range(0,porcentaje):\n",
    "    seleccion = random.randint(0,len(ima1)-1)\n",
    "    \n",
    "    test_im1   += [ima1[seleccion]]\n",
    "    ima1.pop(seleccion)\n",
    "    \n",
    "    test_mas1  += [mas1[seleccion]]\n",
    "    mas1.pop(seleccion)\n",
    "    \n",
    "    test_lab1 += [lab1[seleccion]]\n",
    "    lab1.pop(seleccion)\n",
    "    \n",
    "    test_nom1 += [nom1[seleccion]]\n",
    "    nom1.pop(seleccion)\n",
    "    \n",
    "test_im2=[]\n",
    "test_mas2=[]\n",
    "test_lab2=[]\n",
    "test_nom2=[]\n",
    "\n",
    "n=len(ima2)\n",
    "\n",
    "porcentaje=n-int(round(n*0.7))\n",
    "for _ in range(0,porcentaje):\n",
    "    seleccion = random.randint(0,len(ima2)-1)\n",
    "    test_im2   += [ima2[seleccion]]\n",
    "    ima2.pop(seleccion)\n",
    "    \n",
    "    test_mas2  += [mas2[seleccion]]\n",
    "    mas2.pop(seleccion)\n",
    "    \n",
    "    test_lab2 += [lab2[seleccion]]\n",
    "    lab2.pop(seleccion)\n",
    "    \n",
    "    test_nom2 += [nom2[seleccion]]\n",
    "    nom2.pop(seleccion)\n",
    "    \n",
    "\n",
    "\n",
    "test_im3=[]\n",
    "test_mas3=[]\n",
    "test_lab3=[]\n",
    "test_nom3=[]\n",
    "\n",
    "n=len(ima3)\n",
    "\n",
    "porcentaje=n-int(round(n*0.7))\n",
    "for _ in range(0,porcentaje):\n",
    "    seleccion = random.randint(0,len(ima3)-1)\n",
    "    \n",
    "    test_im3   += [ima3[seleccion]]\n",
    "    ima3.pop(seleccion)\n",
    "    \n",
    "    test_mas3  += [mas3[seleccion]]\n",
    "    mas3.pop(seleccion)\n",
    "    \n",
    "    test_lab3 += [lab3[seleccion]]\n",
    "    lab3.pop(seleccion)\n",
    "    \n",
    "    test_nom3 += [nom3[seleccion]]\n",
    "    nom3.pop(seleccion)\n",
    "    \n",
    "\n"
   ]
  },
  {
   "cell_type": "code",
   "execution_count": null,
   "metadata": {},
   "outputs": [],
   "source": [
    "print \"train ima_1:\",len(ima1)\n",
    "print \"test  ima_1:\",len(test_im1)\n",
    "print \"train mas_1:\",len(mas1)\n",
    "print \"test  mas_1:\",len(test_mas1)\n",
    "print \"train nom_1:\",len(nom1)\n",
    "print \"test  nom_1:\",len(test_nom1)\n",
    "\n",
    "print \"train ima_2:\",len(ima2)\n",
    "print \"test  ima_2:\",len(test_im2)\n",
    "print \"train mas_2:\",len(mas2)\n",
    "print \"test  mas_2:\",len(test_mas2)\n",
    "\n",
    "print \"train ima_3:\",len(ima3)\n",
    "print \"test  ima_3:\",len(test_im3)\n",
    "print \"train mas_3:\",len(mas3)\n",
    "print \"test  mas_3:\",len(test_mas3)\n",
    "\n",
    "print \"Imagenes totales=\",len(ima1)+len(test_im1)+len(ima2)+len(test_im2)+len(ima3)+len(test_im3)"
   ]
  },
  {
   "cell_type": "markdown",
   "metadata": {},
   "source": [
    "## Guardar en carpetas separadas"
   ]
  },
  {
   "cell_type": "code",
   "execution_count": null,
   "metadata": {},
   "outputs": [],
   "source": [
    "#Train 1\n",
    "j=0\n",
    "for i in nom1:\n",
    "    \n",
    "    #Carpeta Paciente\n",
    "    #print i\n",
    "    os.makedirs('Imagenes/l1/train/'+i)\n",
    "    \n",
    "    #Carpeta imagen\n",
    "    os.makedirs('Imagenes/l1/train/'+i+\"/imagen\")\n",
    "    dire=\"Imagenes/l1/train/\"+i+\"/imagen\"\n",
    "    print \"larg\",len(ima1)\n",
    "    print \"j\",j\n",
    "    im=np.array(ima1[j], np.dtype('int16'))\n",
    "    min=im.min()\n",
    "    max=im.max()\n",
    "    img=scipy.misc.toimage(im, cmin=min, cmax=max, mode='L')\n",
    "    img.save(dire+\"/\"+i+\".png\")\n",
    "    \n",
    "    \n",
    "    #Carpeta mascara\n",
    "    os.makedirs('Imagenes/l1/train/'+i+\"/mask\")\n",
    "    dire=\"Imagenes/l1/train/\"+i+\"/mask\"\n",
    "    mas=np.array(mas1[j], np.dtype('float64'))\n",
    "    min=mas.min()\n",
    "    max=mas.max()\n",
    "    mas=scipy.misc.toimage(mas, cmin=min, cmax=max)\n",
    "    io.imsave(dire+\"/\"+i+\".png\",mas)\n",
    "\n",
    "    j=j+1\n",
    "\n",
    "#Test 1\n",
    "j=0\n",
    "for i in test_nom1:\n",
    "    \n",
    "    #Carpeta Paciente\n",
    "    #print i\n",
    "    os.makedirs('Imagenes/l1/test/'+i)\n",
    "    \n",
    "    #Carpeta imagen\n",
    "    os.makedirs('Imagenes/l1/test/'+i+\"/imagen\")\n",
    "    dire=\"Imagenes/l1/test/\"+i+\"/imagen\"\n",
    "    im=np.array(test_im1[j], np.dtype('int16'))\n",
    "    min=im.min()\n",
    "    max=im.max()\n",
    "    img=scipy.misc.toimage(im, cmin=min, cmax=max, mode='L')\n",
    "    img.save(dire+\"/\"+i+\".png\")\n",
    "    \n",
    "    \n",
    "    #Carpeta mascara\n",
    "    os.makedirs('Imagenes/l1/test/'+i+\"/mask\")\n",
    "    dire=\"Imagenes/l1/test/\"+i+\"/mask\"\n",
    "    mas=np.array(test_mas1[j], np.dtype('float64'))\n",
    "    min=mas.min()\n",
    "    max=mas.max()\n",
    "    mas=scipy.misc.toimage(mas, cmin=min, cmax=max)\n",
    "    io.imsave(dire+\"/\"+i+\".png\",mas)\n",
    "\n",
    "    j=j+1"
   ]
  },
  {
   "cell_type": "code",
   "execution_count": null,
   "metadata": {},
   "outputs": [],
   "source": [
    "#Train 2\n",
    "j=0\n",
    "for i in nom2:\n",
    "    \n",
    "    #Carpeta Paciente\n",
    "    #print i\n",
    "    os.makedirs('Imagenes/l2/train/'+i)\n",
    "    \n",
    "    #Carpeta imagen\n",
    "    os.makedirs('Imagenes/l2/train/'+i+\"/imagen\")\n",
    "    dire=\"Imagenes/l2/train/\"+i+\"/imagen\"\n",
    "    print \"larg\",len(ima2)\n",
    "    print \"j\",j\n",
    "    im=np.array(ima2[j], np.dtype('int16'))\n",
    "    min=im.min()\n",
    "    max=im.max()\n",
    "    img=scipy.misc.toimage(im, cmin=min, cmax=max, mode='L')\n",
    "    img.save(dire+\"/\"+i+\".png\")\n",
    "    \n",
    "    \n",
    "    #Carpeta mascara\n",
    "    os.makedirs('Imagenes/l2/train/'+i+\"/mask\")\n",
    "    dire=\"Imagenes/l2/train/\"+i+\"/mask\"\n",
    "    mas=np.array(mas2[j], np.dtype('float64'))\n",
    "    min=mas.min()\n",
    "    max=mas.max()\n",
    "    mas=scipy.misc.toimage(mas, cmin=min, cmax=max)\n",
    "    io.imsave(dire+\"/\"+i+\".png\",mas)\n",
    "\n",
    "    j=j+1\n",
    "\n",
    "#Test 2\n",
    "j=0\n",
    "for i in test_nom2:\n",
    "    \n",
    "    #Carpeta Paciente\n",
    "    #print i\n",
    "    os.makedirs('Imagenes/l2/test/'+i)\n",
    "    \n",
    "    #Carpeta imagen\n",
    "    os.makedirs('Imagenes/l2/test/'+i+\"/imagen\")\n",
    "    dire=\"Imagenes/l2/test/\"+i+\"/imagen\"\n",
    "    im=np.array(test_im2[j], np.dtype('int16'))\n",
    "    min=im.min()\n",
    "    max=im.max()\n",
    "    img=scipy.misc.toimage(im, cmin=min, cmax=max, mode='L')\n",
    "    img.save(dire+\"/\"+i+\".png\")\n",
    "    \n",
    "    \n",
    "    #Carpeta mascara\n",
    "    os.makedirs('Imagenes/l2/test/'+i+\"/mask\")\n",
    "    dire=\"Imagenes/l2/test/\"+i+\"/mask\"\n",
    "    mas=np.array(test_mas2[j], np.dtype('float64'))\n",
    "    min=mas.min()\n",
    "    max=mas.max()\n",
    "    mas=scipy.misc.toimage(mas, cmin=min, cmax=max)\n",
    "    io.imsave(dire+\"/\"+i+\".png\",mas)\n",
    "\n",
    "    j=j+1"
   ]
  },
  {
   "cell_type": "code",
   "execution_count": null,
   "metadata": {},
   "outputs": [],
   "source": [
    "#Train 3\n",
    "j=0\n",
    "for i in nom3:\n",
    "    \n",
    "    #Carpeta Paciente\n",
    "    #print i\n",
    "    os.makedirs('Imagenes/l3/train/'+i)\n",
    "    \n",
    "    #Carpeta imagen\n",
    "    os.makedirs('Imagenes/l3/train/'+i+\"/imagen\")\n",
    "    dire=\"Imagenes/l3/train/\"+i+\"/imagen\"\n",
    "    print \"larg\",len(ima1)\n",
    "    print \"j\",j\n",
    "    im=np.array(ima3[j], np.dtype('int16'))\n",
    "    min=im.min()\n",
    "    max=im.max()\n",
    "    img=scipy.misc.toimage(im, cmin=min, cmax=max, mode='L')\n",
    "    img.save(dire+\"/\"+i+\".png\")\n",
    "    \n",
    "    \n",
    "    #Carpeta mascara\n",
    "    os.makedirs('Imagenes/l3/train/'+i+\"/mask\")\n",
    "    dire=\"Imagenes/l3/train/\"+i+\"/mask\"\n",
    "    mas=np.array(mas3[j], np.dtype('float64'))\n",
    "    min=mas.min()\n",
    "    max=mas.max()\n",
    "    mas=scipy.misc.toimage(mas, cmin=min, cmax=max)\n",
    "    io.imsave(dire+\"/\"+i+\".png\",mas)\n",
    "\n",
    "    j=j+1\n",
    "\n",
    "#Test 3\n",
    "j=0\n",
    "for i in test_nom3:\n",
    "    \n",
    "    #Carpeta Paciente\n",
    "    #print i\n",
    "    os.makedirs('Imagenes/l3/test/'+i)\n",
    "    \n",
    "    #Carpeta imagen\n",
    "    os.makedirs('Imagenes/l3/test/'+i+\"/imagen\")\n",
    "    dire=\"Imagenes/l3/test/\"+i+\"/imagen\"\n",
    "    im=np.array(test_im3[j], np.dtype('int16'))\n",
    "    min=im.min()\n",
    "    max=im.max()\n",
    "    img=scipy.misc.toimage(im, cmin=min, cmax=max, mode='L')\n",
    "    img.save(dire+\"/\"+i+\".png\")\n",
    "    \n",
    "    \n",
    "    #Carpeta mascara\n",
    "    os.makedirs('Imagenes/l3/test/'+i+\"/mask\")\n",
    "    dire=\"Imagenes/l3/test/\"+i+\"/mask\"\n",
    "    mas=np.array(test_mas3[j], np.dtype('float64'))\n",
    "    min=mas.min()\n",
    "    max=mas.max()\n",
    "    mas=scipy.misc.toimage(mas, cmin=min, cmax=max)\n",
    "    io.imsave(dire+\"/\"+i+\".png\",mas)\n",
    "\n",
    "    j=j+1"
   ]
  },
  {
   "cell_type": "code",
   "execution_count": null,
   "metadata": {},
   "outputs": [],
   "source": []
  }
 ],
 "metadata": {
  "kernelspec": {
   "display_name": "Python 2",
   "language": "python",
   "name": "python2"
  },
  "language_info": {
   "codemirror_mode": {
    "name": "ipython",
    "version": 2
   },
   "file_extension": ".py",
   "mimetype": "text/x-python",
   "name": "python",
   "nbconvert_exporter": "python",
   "pygments_lexer": "ipython2",
   "version": "2.7.14"
  }
 },
 "nbformat": 4,
 "nbformat_minor": 2
}
